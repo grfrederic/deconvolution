{
 "cells": [
  {
   "cell_type": "markdown",
   "metadata": {},
   "source": [
    "# Example - under preparation\n",
    "\n",
    "We are going to deconvolve modified image coming from ..."
   ]
  },
  {
   "cell_type": "code",
   "execution_count": 37,
   "metadata": {
    "collapsed": true
   },
   "outputs": [],
   "source": [
    "import deconvolution as dc\n",
    "from PIL import Image\n",
    "import matplotlib.pyplot as plt\n",
    "import numpy as np\n",
    "%matplotlib inline\n",
    "\n",
    "def show(image):\n",
    "    return plt.imshow(np.asarray(image))\n",
    "\n",
    "img = Image.open(\"location\")"
   ]
  },
  {
   "cell_type": "markdown",
   "metadata": {},
   "source": [
    "We can use the Deconvolution class to deconvolve image automatically, without specifying any colour vector"
   ]
  },
  {
   "cell_type": "code",
   "execution_count": 41,
   "metadata": {},
   "outputs": [
    {
     "name": "stdout",
     "output_type": "stream",
     "text": [
      "CPU times: user 3.17 s, sys: 10 ms, total: 3.18 s\n",
      "Wall time: 3.18 s\n"
     ]
    }
   ],
   "source": [
    "dcv = dc.Deconvolution(img)\n",
    "%time imgs = dcv.out_images()"
   ]
  },
  {
   "cell_type": "code",
   "execution_count": null,
   "metadata": {},
   "outputs": [],
   "source": [
    "# plotting method\n",
    "plt.figure()\n",
    "plt.subplot(121)\n",
    "show(imgs[0])\n",
    "plt.subplot(122)\n",
    "show(imgs[1])"
   ]
  }
 ],
 "metadata": {
  "kernelspec": {
   "display_name": "Python 2",
   "language": "python",
   "name": "python2"
  },
  "language_info": {
   "codemirror_mode": {
    "name": "ipython",
    "version": 2
   },
   "file_extension": ".py",
   "mimetype": "text/x-python",
   "name": "python",
   "nbconvert_exporter": "python",
   "pygments_lexer": "ipython2",
   "version": "2.7.13"
  }
 },
 "nbformat": 4,
 "nbformat_minor": 2
}
