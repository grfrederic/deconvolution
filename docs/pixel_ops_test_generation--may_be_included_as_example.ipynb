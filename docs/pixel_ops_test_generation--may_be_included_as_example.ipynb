{
 "cells": [
  {
   "cell_type": "code",
   "execution_count": 35,
   "metadata": {
    "collapsed": true
   },
   "outputs": [],
   "source": [
    "from PIL import Image\n",
    "import numpy as np\n",
    "import deconvolution.pixeloperations as px"
   ]
  },
  {
   "cell_type": "code",
   "execution_count": 120,
   "metadata": {
    "collapsed": false
   },
   "outputs": [
    {
     "name": "stdout",
     "output_type": "stream",
     "text": [
      "1.79223219129\n",
      "1.0916802428\n",
      "1.69555199367\n",
      "1.51732849114\n"
     ]
    }
   ],
   "source": [
    "class TestTransformImageThreeDim:\n",
    "    u = np.array([0.1, 0.2, 0.3])\n",
    "    v = np.array([1, 0.3, 0.8])\n",
    "    t = np.array([0.7, 0.8, 0.1])\n",
    "    basis = [u, v, t]\n",
    "\n",
    "    @staticmethod\n",
    "    def white_matrix(x, y):\n",
    "        return 255 * np.ones(shape=(x, y, 3))\n",
    "\n",
    "    def test_transform_image__1(self):\n",
    "        \"\"\"Test for a uniformly colored image, 50x50\"\"\"\n",
    "        a = self.white_matrix(50, 50) * self.u**0.2 * self.v**0.3 * self.t**0.4\n",
    "        b = np.array(a, dtype=np.uint8)\n",
    "\n",
    "        pix_ops = px.PixelOperations(basis=self.basis)\n",
    "        r = pix_ops.transform_image(b, mode=[0, 1, 2, 3, -1])\n",
    "\n",
    "\n",
    "        r1 = np.array(self.white_matrix(50, 50) * self.u**0.2, dtype=np.uint8)\n",
    "        r2 = np.array(self.white_matrix(50, 50) * self.v**0.3, dtype=np.uint8)\n",
    "        r3 = np.array(self.white_matrix(50, 50) * self.t**0.4, dtype=np.uint8)        \n",
    "\n",
    "    def test_transform_image__3(self):\n",
    "        \"\"\"Test for a non-uniformly colored image\"\"\"\n",
    "        a_1 = self.white_matrix(50, 50) * self.u**0.2 * self.v**0.3 * self.t**0.4\n",
    "        a_2 = self.white_matrix(50, 50) * self.u**0.1 * self.v**0.5 * self.t**0.6\n",
    "        a = np.concatenate((a_1, a_2))\n",
    "\n",
    "        b = np.array(a, dtype=np.uint8)\n",
    "\n",
    "        pix_ops = px.PixelOperations(basis=self.basis)\n",
    "        r = pix_ops.transform_image(b, mode=[0, 1, 2, 3, -1])\n",
    "\n",
    "        r1_1 = self.white_matrix(50, 50) * self.u**0.2\n",
    "        r1_2 = self.white_matrix(50, 50) * self.u**0.1\n",
    "        r1 = np.concatenate((r1_1, r1_2))\n",
    "\n",
    "        r2_1 = self.white_matrix(50, 50) * self.v**0.3\n",
    "        r2_2 = self.white_matrix(50, 50) * self.v**0.5\n",
    "        r2 = np.concatenate((r2_1, r2_2))\n",
    "\n",
    "        r3_1 = self.white_matrix(50, 50) * self.t**0.4\n",
    "        r3_2 = self.white_matrix(50, 50) * self.t**0.6\n",
    "        r3 = np.concatenate((r3_1, r3_2))\n",
    "        \n",
    "        print(np.max((r[0]-a)**2)**0.5)\n",
    "        print(np.max((r[1]-r1)**2)**0.5)\n",
    "        print(np.max((r[2]-r2)**2)**0.5)\n",
    "        print(np.max((r[3]-r3)**2)**0.5)\n",
    "        \n",
    "        foo = np.concatenate((b, r1, r2, r3, r[0], r[1], r[2], r[3]))\n",
    "        foo=np.array(foo, dtype=np.uint8)\n",
    "        bar = Image.fromarray(foo)\n",
    "        bar.show()\n",
    "\n",
    "\n",
    "    def test_bad_image(self):\n",
    "        \"\"\"Test for an image of shape (X,Y,4)\"\"\"\n",
    "\n",
    "        a = 255 * np.ones(shape=(50, 50, 4))\n",
    "        pix_ops = px.PixelOperations(basis=self.basis)\n",
    "        with self.assertRaises(ValueError):\n",
    "            pix_ops.transform_image(a)\n",
    "\n",
    "        \n",
    "u = TestTransformImageThreeDim()\n",
    "u.test_transform_image__3()"
   ]
  },
  {
   "cell_type": "code",
   "execution_count": 118,
   "metadata": {
    "collapsed": false
   },
   "outputs": [
    {
     "data": {
      "text/plain": [
       "array([ 0.80734438,  0.87468966,  0.25118864])"
      ]
     },
     "execution_count": 118,
     "metadata": {},
     "output_type": "execute_result"
    }
   ],
   "source": [
    "u.t**0.6"
   ]
  },
  {
   "cell_type": "code",
   "execution_count": null,
   "metadata": {
    "collapsed": true
   },
   "outputs": [],
   "source": []
  }
 ],
 "metadata": {
  "kernelspec": {
   "display_name": "Python 3",
   "language": "python",
   "name": "python3"
  },
  "language_info": {
   "codemirror_mode": {
    "name": "ipython",
    "version": 3
   },
   "file_extension": ".py",
   "mimetype": "text/x-python",
   "name": "python",
   "nbconvert_exporter": "python",
   "pygments_lexer": "ipython3",
   "version": "3.6.0"
  }
 },
 "nbformat": 4,
 "nbformat_minor": 2
}
